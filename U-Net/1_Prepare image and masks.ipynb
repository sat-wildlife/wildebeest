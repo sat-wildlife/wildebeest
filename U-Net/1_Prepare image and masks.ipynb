{
 "cells": [
  {
   "cell_type": "markdown",
   "id": "21504f12",
   "metadata": {
    "id": "oPHJmiljrCZI"
   },
   "source": [
    "<h1> Wildebeest Detection using U-Net from VHR satellite images</h1>\n",
    "Code Author: Zijing Wu \n",
    "\n",
    "***The code is developed for research project purposes.***"
   ]
  },
  {
   "cell_type": "code",
   "execution_count": null,
   "id": "1de29cdd-c6a6-4e2a-815e-e6238267d203",
   "metadata": {},
   "outputs": [],
   "source": [
    "#check the GPU colab assigns to you\n",
    "gpu_info = !nvidia-smi\n",
    "gpu_info = '\\n'.join(gpu_info)\n",
    "if gpu_info.find('failed') >= 0:\n",
    "  print('Select the Runtime > \"Change runtime type\" menu to enable a GPU accelerator, ')\n",
    "  print('and then re-execute this cell.')\n",
    "else:\n",
    "  print(gpu_info)\n"
   ]
  },
  {
   "cell_type": "markdown",
   "id": "7a703595",
   "metadata": {
    "id": "HGc75apDskid"
   },
   "source": [
    "##  Load libraries"
   ]
  },
  {
   "cell_type": "code",
   "execution_count": null,
   "id": "9580f755",
   "metadata": {
    "colab": {
     "base_uri": "https://localhost:8080/"
    },
    "executionInfo": {
     "elapsed": 10178,
     "status": "ok",
     "timestamp": 1658405886748,
     "user": {
      "displayName": "Juli Baker",
      "userId": "12694382704677250833"
     },
     "user_tz": -480
    },
    "id": "e03af125",
    "outputId": "3dd1ce4b-9976-45b3-f852-a3f80a4f4e12"
   },
   "outputs": [],
   "source": [
    "import os\n",
    "import rasterio\n",
    "\n",
    "\n",
    "import rasterio.mask\n",
    "\n",
    "import geopandas as gpd\n",
    "\n",
    "\n",
    "import numpy as np\n",
    "import matplotlib.pyplot as plt\n",
    "\n",
    "import rioxarray as riox\n",
    "# !pip install ipython-autotime\n",
    "# %load_ext autotime"
   ]
  },
  {
   "cell_type": "code",
   "execution_count": null,
   "id": "8f042701",
   "metadata": {},
   "outputs": [],
   "source": [
    "#set the sys path where the modules locates\n",
    "import sys\n",
    "sys.path.insert(0,\"core\")\n",
    "\n",
    "#If you are using Google Colaboratory, modify the path here\n",
    "#sys.path.insert(0,\"/content/drive/MyDrive/Colab/zijingwu-Satellite-based-monitoring-of-wildebeest/core\")\n",
    "from preprocess import *\n",
    "\n",
    "from model import *\n",
    "\n",
    "from evaluation import *\n",
    "\n",
    "from visualization import *\n",
    "\n",
    "\n",
    "from predict import *"
   ]
  },
  {
   "cell_type": "markdown",
   "id": "c419377c",
   "metadata": {
    "id": "k2oCYdSDryNO"
   },
   "source": [
    "## Define functions"
   ]
  },
  {
   "cell_type": "code",
   "execution_count": null,
   "id": "a53fe572",
   "metadata": {},
   "outputs": [],
   "source": [
    "def generate_mask_from_point(raster_path, shape_path, output_path, file_name, cluster_size,plot):\n",
    "    \n",
    "    \"\"\"Function that generates a binary mask from a point vector file (shp or geojson)\n",
    "    \n",
    "    raster_path = path to the .tif;\n",
    "\n",
    "    shape_path = path to the shapefile or GeoJson of the point annotations.\n",
    "\n",
    "    output_path = Path to save the binary mask.\n",
    "\n",
    "    file_name = Name of the file.\n",
    "    \n",
    "    \"\"\"\n",
    "    \n",
    "    #load raster\n",
    "    if os.path.exists(output_path) == False:\n",
    "        os.mkdir(output_path)\n",
    "    with rasterio.open(raster_path, \"r\") as src:\n",
    "        raster_img = src.read()\n",
    "        bou = src.bounds\n",
    "    \n",
    "    #load o shapefile ou GeoJson\n",
    "    true_pts = gpd.read_file(shape_path)\n",
    "    if true_pts.crs == src.crs:\n",
    "        print('The crs of the points are the same as the crs from the raster image!')   \n",
    "        true_pts = gpd.read_file(shape_path, bbox = bou, encoding='utf-8')\n",
    "\n",
    "    else:    \n",
    "        print('The crs of the points are different from the crs from the raster image!')\n",
    "        true_pts = gpd.read_file(shape_path, encoding='utf-8').to_crs(src.crs).clip_by_rect(*bou)    \n",
    "                              \n",
    "    print(len(true_pts.index))\n",
    "    \n",
    "    im_size = (src.meta['height'], src.meta['width'])\n",
    "    mask = np.zeros(im_size)\n",
    "    \n",
    "    if len(true_pts.index) > 0:\n",
    "    \n",
    "        true_pts_x, true_pts_y = CrsToPixel(true_pts.geometry, src)\n",
    "    \n",
    "        for point in list(zip(true_pts_x,true_pts_y)):\n",
    "    \n",
    "            # print(point)\n",
    "            x = point[0]\n",
    "            y = point[1]\n",
    "            if cluster_size ==16:\n",
    "                mask[x-1:x+3,y-1:y+3] = 1\n",
    "            elif cluster_size ==9:\n",
    "                mask[x-1:x+2,y-1:y+2] = 1\n",
    "            elif cluster_size ==25:\n",
    "                mask[x-2:x+3,y-2:y+3] = 1\n",
    "        \n",
    "            #print(np.shape(mask))\n",
    "    \n",
    "    mask = mask.astype(\"uint8\")\n",
    "    \n",
    "    bin_mask_meta = src.meta.copy()\n",
    "    bin_mask_meta.update({'count': 1})\n",
    "    os.chdir(output_path)\n",
    "    with rasterio.open(file_name, 'w', **bin_mask_meta) as dst:\n",
    "        dst.write(mask, 1)\n",
    "    if plot == True:\n",
    "        fig, (ax1, ax2) = plt.subplots(nrows=1, ncols=2, figsize=(8, 4),\n",
    "                                                 sharex=True, sharey=True)\n",
    "        ax1.imshow(np.moveaxis(raster_img, 0, -1))\n",
    "        ax1.set_title('image')\n",
    "        ax2.imshow(mask)\n",
    "        ax2.set_title('mask')\n",
    "        plt.tight_layout()\n",
    "        plt.show()  "
   ]
  },
  {
   "cell_type": "code",
   "execution_count": null,
   "id": "6c401420-b173-457a-ac58-283edfc925aa",
   "metadata": {},
   "outputs": [],
   "source": [
    "#wildebeest -> prepare code for sampling: \n",
    "#roi: shp\n",
    "#img: directory to the tiles\n",
    "#iterate over rois: find overlapping tiles, if only one tile, clip it and get the patch; if two, get the strip id, check how roi intersects with strip boundary, if only intersects with one, clip the roi and the strip; if more than one, get the intersect rois, clip them separately and then merge it. Name it with the id\n",
    "#iterate over rois: find annotation points within the roi, use roi to create the mask: point to pixel, expand the pixel (change values around the pixel）\n",
    "\n",
    "# import rioxarray and shapley\n",
    "\n",
    "def extract_image_from_AOI(image_path, roi_path, output_folder):\n",
    "\n",
    "    # bound name: Bound2023_1.shp\n",
    "    crs = \"EPSG:32736\"\n",
    "    \n",
    "    if os.path.exists(output_folder) == False:\n",
    "        os.mkdirs(output_folder)\n",
    "  \n",
    "    roi = gpd.read_file(roi_path)   \n",
    "    if roi.crs is None:\n",
    "        roi = roi.set_crs(crs)\n",
    "\n",
    "    roi = roi[~roi.is_empty] # remove potential empty polygons\n",
    "    print(\"found {} valid geometries\".format(len(roi)))\n",
    "\n",
    "    file_name = os.path.split(image_path)[1]\n",
    "    img_name, file_extension = os.path.splitext(file_name)\n",
    "\n",
    "    file_name = os.path.split(roi_path)[1]\n",
    "    roi_name, file_extension = os.path.splitext(file_name)\n",
    "    \n",
    "\n",
    "    for index, row in roi.iterrows():\n",
    "        geom = row[\"geometry\"]\n",
    "        geom_bounds = geom.bounds\n",
    "#     zone = box(*zone_bounds)\n",
    "     \n",
    "        out_image = os.path.join(output_folder, \"{}_{}_{:0>6d}.tif\".format(img_name, roi_name, index))\n",
    "        if os.path.exists(out_image):\n",
    "            print(\"Data already exists!\")\n",
    "            continue\n",
    "                                 \n",
    "#         print(*geom_bounds)\n",
    "        test = rasterio.open(image_path)\n",
    "#         print(test.crs)\n",
    "#         print(test.bounds)\n",
    "#         print(*rasterio.warp.transform_bounds(roi.crs, test.crs, *geom_bounds))        \n",
    "        ras = riox.open_rasterio(image_path)\n",
    "        clipped_raster = ras.rio.clip_box(*rasterio.warp.transform_bounds(roi.crs, test.crs, *geom_bounds))\n",
    "        clipped_raster.rio.to_raster(out_image)  \n",
    "        print(\"Saved image \"+out_image)\n"
   ]
  },
  {
   "cell_type": "markdown",
   "id": "948bdbd5",
   "metadata": {
    "id": "T0Y3h1rfs8Bp"
   },
   "source": [
    "## Define the data path"
   ]
  },
  {
   "cell_type": "code",
   "execution_count": null,
   "id": "d06a5c22",
   "metadata": {
    "colab": {
     "base_uri": "https://localhost:8080/"
    },
    "executionInfo": {
     "elapsed": 532,
     "status": "ok",
     "timestamp": 1658407248798,
     "user": {
      "displayName": "Juli Baker",
      "userId": "12694382704677250833"
     },
     "user_tz": -480
    },
    "id": "08fb6cfd",
    "outputId": "8eeb2e8d-0a62-498c-e972-22d4f1e2c3d7"
   },
   "outputs": [],
   "source": [
    "#Change the path to your directory\n",
    "Data_folder = \"/home/zijing/wildebeest/SampleData/data_preparation\"\n",
    "\n",
    "#For Google Colaboratory users, update the directory:\n",
    "#Data_folder = \"/content/drive/MyDrive/Colab/Wildebeest-UNet/SampleData/1_Data_preparation/\"\n",
    "\n",
    "IMAGE_PATH = os.path.join(Data_folder, \"images\") #create folder to store the image patches\n",
    "ROI_PATH = os.path.join(Data_folder, \"roi/zone.shp\") #save the ROI file here\n",
    "POINT_PATH = os.path.join(Data_folder, \"point/points.shp\") #save the point annotations here\n",
    "MASK_PATH = os.path.join(Data_folder, \"masks\") #create folder to store the mask patches\n",
    "\n",
    "sate_image_path = \"/home/zijing/wildebeest/data/202308/mosaic_image/2023_RGB.tif\"\n",
    "\n",
    "if not os.path.exists(IMAGE_PATH):\n",
    "    os.makedirs(IMAGE_PATH)\n",
    "if not os.path.exists(MASK_PATH):\n",
    "    os.makedirs(MASK_PATH)\n"
   ]
  },
  {
   "cell_type": "markdown",
   "id": "0e91141e",
   "metadata": {
    "id": "KVfpvPevyv_W"
   },
   "source": [
    "# Processing"
   ]
  },
  {
   "cell_type": "markdown",
   "id": "46580afc",
   "metadata": {},
   "source": [
    "## Extract images from the sampling plots"
   ]
  },
  {
   "cell_type": "code",
   "execution_count": null,
   "id": "bb92155c-60f6-47c6-bc65-1b91b3c8f16f",
   "metadata": {},
   "outputs": [],
   "source": [
    "extract_image_from_AOI(sate_image_path, ROI_PATH, IMAGE_PATH)"
   ]
  },
  {
   "cell_type": "markdown",
   "id": "d7562478",
   "metadata": {
    "id": "7uR1Am8Hym2v"
   },
   "source": [
    "## Create the mask images from the source image and annotation AOIs"
   ]
  },
  {
   "cell_type": "code",
   "execution_count": null,
   "id": "e8b3a6c4-e97c-4dc3-adcb-bfeb116d6178",
   "metadata": {
    "scrolled": true
   },
   "outputs": [],
   "source": [
    "\n",
    "for f in sorted(os.listdir(IMAGE_PATH)):\n",
    "    #print(f)\n",
    "    fdir = os.path.join(IMAGE_PATH, f)\n",
    "    image_name, ext = os.path.splitext(f)\n",
    "    if ext.lower() == \".tif\":\n",
    "        ID = image_name\n",
    "        print(ID)\n",
    "        generate_mask_from_point(fdir, POINT_PATH, MASK_PATH, ID+'.tif', 25,False)\n",
    "        print(\"Generated mask image \" + ID)\n",
    "         \n"
   ]
  },
  {
   "cell_type": "markdown",
   "id": "9f4ffe35",
   "metadata": {
    "id": "P2a6avrI1PaD"
   },
   "source": [
    "# References"
   ]
  },
  {
   "cell_type": "markdown",
   "id": "e34a93c0",
   "metadata": {
    "id": "jkMcPCpqrZ_I"
   },
   "source": [
    "\n",
    "***References:***\n",
    "\n",
    "https://lpsmlgeo.github.io/2019-09-22-binary_mask/"
   ]
  }
 ],
 "metadata": {
  "colab": {
   "collapsed_sections": [],
   "name": "1_Preprocessing_AOI_to_Mask.ipynb",
   "provenance": []
  },
  "kernelspec": {
   "display_name": "Python 3 (ipykernel)",
   "language": "python",
   "name": "python3"
  },
  "language_info": {
   "codemirror_mode": {
    "name": "ipython",
    "version": 3
   },
   "file_extension": ".py",
   "mimetype": "text/x-python",
   "name": "python",
   "nbconvert_exporter": "python",
   "pygments_lexer": "ipython3",
   "version": "3.11.7"
  }
 },
 "nbformat": 4,
 "nbformat_minor": 5
}
